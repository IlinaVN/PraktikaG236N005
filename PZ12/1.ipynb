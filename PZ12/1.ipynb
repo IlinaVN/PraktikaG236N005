{
 "cells": [
  {
   "cell_type": "code",
   "execution_count": 1,
   "id": "751df58f",
   "metadata": {},
   "outputs": [],
   "source": [
    "import pandas as pd"
   ]
  },
  {
   "cell_type": "code",
   "execution_count": 2,
   "id": "5483f2f9",
   "metadata": {},
   "outputs": [],
   "source": [
    "grades = pd.read_excel('C:\\\\Users\\\\Администратор\\\\Documents\\\\M3023622\\\\ИльинаЖирков\\\\PZ12\\\\Предмет 1 - Оценки.xlsx')"
   ]
  },
  {
   "cell_type": "code",
   "execution_count": 3,
   "id": "1ec4223e",
   "metadata": {},
   "outputs": [],
   "source": [
    "pos = pd.read_excel('C:\\\\Users\\\\Администратор\\\\Documents\\\\M3023622\\\\ИльинаЖирков\\\\PZ12\\\\Предмет 1 - Посещаемость.xlsx')"
   ]
  },
  {
   "cell_type": "code",
   "execution_count": 4,
   "id": "71464305",
   "metadata": {},
   "outputs": [],
   "source": [
    "shkala = pd.read_excel('C:\\\\Users\\\\Администратор\\\\Documents\\\\M3023622\\\\ИльинаЖирков\\\\PZ12\\\\Предмет 1 - Шкала.xlsx')"
   ]
  },
  {
   "cell_type": "code",
   "execution_count": 5,
   "id": "f11ee63d",
   "metadata": {
    "scrolled": true
   },
   "outputs": [],
   "source": [
    "grades = grades.replace('-', 0)"
   ]
  },
  {
   "cell_type": "code",
   "execution_count": 6,
   "id": "74f2fc78",
   "metadata": {},
   "outputs": [],
   "source": [
    "grades[['ПЗ 1', 'ЛК 1', 'ЛК 2', 'ЛК 3', 'ЛК 4', 'ПЗ 10']] = grades[['ПЗ 1', 'ЛК 1', 'ЛК 2', 'ЛК 3', 'ЛК 4', 'ПЗ 10']].astype(int)"
   ]
  },
  {
   "cell_type": "code",
   "execution_count": 7,
   "id": "5f3531a9",
   "metadata": {},
   "outputs": [],
   "source": [
    "pz = len(grades) * [0]\n",
    "lk = len(grades) * [0]"
   ]
  },
  {
   "cell_type": "code",
   "execution_count": 8,
   "id": "1e55ade5",
   "metadata": {},
   "outputs": [],
   "source": [
    "for i in range(len(grades)):\n",
    "    pz[i] = (grades.loc[i]['ПЗ 1'] + grades.loc[i]['ПЗ 10'])/2\n",
    "    lk[i] = (grades.loc[i]['ЛК 1'] + grades.loc[i]['ЛК 2'] + grades.loc[i]['ЛК 3'] + grades.loc[i]['ЛК 4'])/4"
   ]
  },
  {
   "cell_type": "code",
   "execution_count": 9,
   "id": "76313035",
   "metadata": {},
   "outputs": [],
   "source": [
    "df = pd.DataFrame(pos['Фамилия'])"
   ]
  },
  {
   "cell_type": "code",
   "execution_count": 10,
   "id": "a115f8be",
   "metadata": {},
   "outputs": [],
   "source": [
    "df.insert(1, 'ЛК', lk)\n",
    "df.insert(2, 'Посещаемость', pos['Процент'])\n",
    "df.insert(3, 'ПЗ', pz)"
   ]
  },
  {
   "cell_type": "code",
   "execution_count": 11,
   "id": "8f13311c",
   "metadata": {},
   "outputs": [],
   "source": [
    "df['Посещаемость'] = df['Посещаемость'].astype(float)"
   ]
  },
  {
   "cell_type": "code",
   "execution_count": 12,
   "id": "4b05f08b",
   "metadata": {},
   "outputs": [],
   "source": [
    "df['ЛК'] = df['ЛК'] * 10 / 100\n",
    "df['Посещаемость'] = df['Посещаемость'] * 15 / 100\n",
    "df['ПЗ'] = df['ПЗ'] * 25 / 100"
   ]
  },
  {
   "cell_type": "code",
   "execution_count": 13,
   "id": "1b015628",
   "metadata": {},
   "outputs": [],
   "source": [
    "df = df.assign(Итог = df['ЛК'] + df['Посещаемость'] + df['ПЗ'])"
   ]
  },
  {
   "cell_type": "code",
   "execution_count": 14,
   "id": "a92642b2",
   "metadata": {},
   "outputs": [],
   "source": [
    "df.to_excel('Предмет 1 - Итог.xlsx')"
   ]
  }
 ],
 "metadata": {
  "kernelspec": {
   "display_name": "Python 3 (ipykernel)",
   "language": "python",
   "name": "python3"
  },
  "language_info": {
   "codemirror_mode": {
    "name": "ipython",
    "version": 3
   },
   "file_extension": ".py",
   "mimetype": "text/x-python",
   "name": "python",
   "nbconvert_exporter": "python",
   "pygments_lexer": "ipython3",
   "version": "3.11.3"
  }
 },
 "nbformat": 4,
 "nbformat_minor": 5
}
